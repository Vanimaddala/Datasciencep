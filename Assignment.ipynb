{
 "cells": [
  {
   "cell_type": "markdown",
   "metadata": {},
   "source": [
    "<center>\n",
    "    <img src=\"https://cf-courses-data.s3.us.cloud-object-storage.appdomain.cloud/IBMDeveloperSkillsNetwork-DS0105EN-SkillsNetwork/labs/Module2/images/SN_web_lightmode.png\" width=\"300\" alt=\"cognitiveclass.ai logo\">\n",
    "</center>\n"
   ]
  },
  {
   "cell_type": "markdown",
   "metadata": {},
   "source": [
    "#### Add your code below following the instructions given in the course\n"
   ]
  },
  {
   "cell_type": "code",
   "execution_count": null,
   "metadata": {},
   "outputs": [],
   "source": [
    "# This is my new notebook\n"
   ]
  },
  {
   "cell_type": "markdown",
   "metadata": {},
   "source": [
    "# Welcome to my notebook!\n",
    "\n",
    "In this notebook, we will explore various topics related to **Data Science Tools** that provide powerful tools to analyze and work with data. These tools are essential for data scientists, analysts, and researchers to efficiently manipulate, visualize, and extract insights from data.\n",
    "\n",
    "Throughout this notebook, we will dive into the world of data science tools and discover how they can empower us to make data-driven decisions and solve complex problems. So, let's embark on this journey and explore the capabilities of these powerful tools!\n"
   ]
  },
  {
   "cell_type": "markdown",
   "metadata": {},
   "source": [
    "## Data Science Languages by Task\n",
    "\n",
    "When it comes to data science, various programming languages are used for different tasks. Here are some popular data science languages based on their capabilities:\n",
    "\n",
    "### Data Visualization:\n",
    "- **Python**: Python offers libraries like Matplotlib, Seaborn, and Plotly for creating interactive visualizations.\n",
    "- **R**: R is well-known for its data visualization packages, including ggplot2 and lattice.\n",
    "\n",
    "### Data Manipulation:\n",
    "- **Python**: Python's Pandas library is widely used for data manipulation and analysis.\n",
    "- **R**: R provides powerful data manipulation tools, including dplyr and tidyr.\n",
    "\n",
    "### Data Integration:\n",
    "- **Python**: Python can handle data integration tasks with libraries like Pandas and NumPy.\n",
    "- **SQL**: SQL is essential for working with databases and integrating data from different sources.\n",
    "\n",
    "### Data Modeling and Machine Learning:\n",
    "- **Python**: Python is dominant in machine learning with libraries like scikit-learn, TensorFlow, and PyTorch.\n",
    "- **R**: R offers various packages for statistical modeling and machine learning, such as caret and randomForest.\n",
    "\n",
    "These languages play a crucial role in various aspects of data science, allowing data scientists to perform tasks like data visualization, manipulation, integration, and modeling effectively.\n"
   ]
  },
  {
   "cell_type": "code",
   "execution_count": null,
   "metadata": {},
   "outputs": [],
   "source": [
    "## Data Science Libraries\n",
    "\n",
    "Data science relies on a plethora of libraries that provide powerful tools and functions to work with data. Here are some commonly used data science libraries:\n",
    "\n",
    "### Data Manipulation and Analysis:\n",
    "- **Pandas**: A Python library for data manipulation and analysis, offering data structures and functions for handling structured data.\n",
    "\n",
    "### Data Visualization:\n",
    "- **Matplotlib**: A widely-used Python library for creating static, animated, and interactive visualizations.\n",
    "- **Seaborn**: Built on top of Matplotlib, Seaborn simplifies data visualization with an easy-to-use interface.\n",
    "- **Plotly**: Allows the creation of interactive, web-based visualizations.\n",
    "\n",
    "### Machine Learning and Data Modeling:\n",
    "- **scikit-learn**: A Python library for machine learning, featuring various algorithms for classification, regression, clustering, and more.\n",
    "- **TensorFlow**: An open-source machine learning framework developed by Google for deep learning tasks.\n",
    "- **PyTorch**: An open-source machine learning library known for its flexibility and support for deep learning.\n",
    "\n",
    "### Statistical Analysis:\n",
    "- **StatsModels**: A Python library for estimating and interpreting statistical models.\n",
    "\n",
    "### Natural Language Processing (NLP):\n",
    "- **NLTK (Natural Language Toolkit)**: A Python library for working with human language data.\n",
    "\n",
    "### Data Extraction and Transformation:\n",
    "- **Beautiful Soup**: A Python library for web scraping and parsing HTML and XML documents.\n",
    "- **Requests**: A Python library for making HTTP requests to fetch data from websites and APIs.\n",
    "\n",
    "These are just a few of the many libraries available for various data science tasks. Data scientists use these libraries to perform data manipulation, analysis, visualization, modeling, and more.\n"
   ]
  },
  {
   "cell_type": "markdown",
   "metadata": {},
   "source": [
    "## Data Science Tools\n",
    "\n",
    "| Tool Name            | Description                                     |\n",
    "|----------------------|-------------------------------------------------|\n",
    "| **Python**           | A versatile programming language widely used in data science for its rich ecosystem of libraries.|\n",
    "| **R**                | A statistical and data analysis language with a strong focus on data visualization and modeling. |\n",
    "| **Jupyter Notebooks**| An interactive web-based environment for coding, data analysis, and sharing research. |\n",
    "| **Pandas**           | A Python library for data manipulation and analysis, offering data structures like DataFrames. |\n",
    "| **Matplotlib**       | A Python library for creating static, animated, and interactive data visualizations. |\n",
    "| **scikit-learn**     | A machine learning library in Python that provides tools for classification, regression, clustering, and more. |\n",
    "| **TensorFlow**       | An open-source machine learning framework developed by Google, known for deep learning. |\n",
    "| **PyTorch**          | An open-source machine learning library that offers flexibility and support for deep learning. |\n",
    "| **Tableau**          | A data visualization tool that simplifies the creation of interactive and shareable dashboards. |\n",
    "| **Power BI**         | Microsoft's business analytics service for interactive data visualization and sharing. |\n",
    "| **SQL**              | A domain-specific language used for managing and querying relational databases. |\n",
    "| **Hadoop**           | An open-source big data framework for distributed storage and processing of large datasets. |\n",
    "| **Spark**            | An open-source big data processing framework, known for its speed and ease of use. |\n",
    "| **RapidMiner**       | A data science platform that offers a wide range of tools for data analytics and modeling. |\n",
    "\n",
    "These are just a few of the many data science tools available. Data scientists use these tools to perform various tasks, including data analysis, visualization, modeling, and machine learning.\n"
   ]
  },
  {
   "cell_type": "markdown",
   "metadata": {},
   "source": [
    "## Arithmetic Expression Examples\n",
    "\n",
    "Arithmetic expressions involve mathematical operations on numbers and are fundamental in various aspects of mathematics and computer programming. In this section, we'll explore some common arithmetic expression examples that demonstrate basic mathematical operations. These operations include:\n",
    "\n",
    "- Addition\n",
    "- Subtraction\n",
    "- Multiplication\n",
    "- Division\n",
    "- Exponents\n",
    "- Parentheses for grouping\n",
    "\n",
    "We'll provide examples for each of these operations to illustrate how to perform calculations and use them in various contexts. Whether you're a student, programmer, or someone interested in mathematics, these examples will help you grasp the fundamentals of arithmetic expressions and their practical applications.\n"
   ]
  },
  {
   "cell_type": "code",
   "execution_count": 1,
   "metadata": {
    "tags": []
   },
   "outputs": [
    {
     "name": "stdout",
     "output_type": "stream",
     "text": [
      "24\n",
      "14\n"
     ]
    }
   ],
   "source": [
    "a=2\n",
    "b=12\n",
    "print(a*b)\n",
    "print(a+b)"
   ]
  },
  {
   "cell_type": "code",
   "execution_count": 3,
   "metadata": {
    "tags": []
   },
   "outputs": [
    {
     "name": "stdin",
     "output_type": "stream",
     "text": [
      " 12\n"
     ]
    },
    {
     "name": "stdout",
     "output_type": "stream",
     "text": [
      "0.2\n"
     ]
    }
   ],
   "source": [
    "a=int(input())\n",
    "print(a/60)"
   ]
  },
  {
   "cell_type": "markdown",
   "metadata": {},
   "source": [
    "## Objectives\n",
    "\n",
    "In this document, we aim to achieve the following objectives:\n",
    "\n",
    "1. **Introduction to Data Science Tools**: Provide an overview of tools and libraries commonly used in data science for tasks like data manipulation, visualization, modeling, and more.\n",
    "\n",
    "2. **Data Science Languages**: Explore programming languages utilized in data science for various data-related tasks, including data visualization, manipulation, integration, and modeling.\n",
    "\n",
    "3. **Data Science Libraries**: Discuss popular data science libraries and their specific purposes, such as data manipulation, visualization, machine learning, and statistical analysis.\n",
    "\n",
    "4. **Data Science Tools**: Present a selection of data science tools used for tasks like coding, data analysis, and data visualization.\n",
    "\n",
    "5. **Arithmetic Expression Examples**: Provide practical examples of arithmetic expressions, covering addition, subtraction, multiplication, division, exponents, and grouping with parentheses.\n",
    "\n",
    "By the end of this document, you should have a better understanding of data science tools, languages, and libraries, as well as essential concepts related to arithmetic expressions.\n"
   ]
  },
  {
   "cell_type": "markdown",
   "metadata": {
    "tags": []
   },
   "source": [
    "## Author\n",
    "\n",
    "-Sreevani Maddala"
   ]
  },
  {
   "cell_type": "code",
   "execution_count": null,
   "metadata": {},
   "outputs": [],
   "source": []
  }
 ],
 "metadata": {
  "kernelspec": {
   "display_name": "Python",
   "language": "python",
   "name": "conda-env-python-py"
  },
  "language_info": {
   "codemirror_mode": {
    "name": "ipython",
    "version": 3
   },
   "file_extension": ".py",
   "mimetype": "text/x-python",
   "name": "python",
   "nbconvert_exporter": "python",
   "pygments_lexer": "ipython3",
   "version": "3.7.12"
  }
 },
 "nbformat": 4,
 "nbformat_minor": 4
}
